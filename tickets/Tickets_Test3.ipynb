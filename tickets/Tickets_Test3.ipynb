{
 "cells": [
  {
   "cell_type": "code",
   "execution_count": 1,
   "id": "6de35643",
   "metadata": {},
   "outputs": [],
   "source": [
    "import pandas as pd\n",
    "from sklearn.model_selection import train_test_split\n",
    "from sklearn.model_selection import GridSearchCV\n",
    "from sklearn.naive_bayes import MultinomialNB\n",
    "from sklearn.feature_extraction.text import TfidfTransformer\n",
    "from sklearn.feature_extraction.text import CountVectorizer\n",
    "from sklearn.pipeline import Pipeline\n",
    "from sklearn.linear_model import SGDClassifier\n",
    "import numpy as np\n",
    "from nltk.corpus import stopwords\n",
    "import unidecode"
   ]
  },
  {
   "cell_type": "code",
   "execution_count": 2,
   "id": "2bff44e9",
   "metadata": {},
   "outputs": [],
   "source": [
    "df_tickets = pd.read_csv('tickets_asunto.csv', sep=';', quotechar = '\\'')"
   ]
  },
  {
   "cell_type": "code",
   "execution_count": 3,
   "id": "9ca558ff",
   "metadata": {},
   "outputs": [],
   "source": [
    "df_tickets.dropna(inplace=True)"
   ]
  },
  {
   "cell_type": "code",
   "execution_count": 4,
   "id": "5659f49b",
   "metadata": {},
   "outputs": [
    {
     "data": {
      "text/html": [
       "<div>\n",
       "<style scoped>\n",
       "    .dataframe tbody tr th:only-of-type {\n",
       "        vertical-align: middle;\n",
       "    }\n",
       "\n",
       "    .dataframe tbody tr th {\n",
       "        vertical-align: top;\n",
       "    }\n",
       "\n",
       "    .dataframe thead th {\n",
       "        text-align: right;\n",
       "    }\n",
       "</style>\n",
       "<table border=\"1\" class=\"dataframe\">\n",
       "  <thead>\n",
       "    <tr style=\"text-align: right;\">\n",
       "      <th></th>\n",
       "      <th>tecnico</th>\n",
       "      <th>asunto</th>\n",
       "      <th>descripcion</th>\n",
       "    </tr>\n",
       "  </thead>\n",
       "  <tbody>\n",
       "    <tr>\n",
       "      <th>0</th>\n",
       "      <td>63602</td>\n",
       "      <td>RE: Petición : ##268042## ha sido finalizada.</td>\n",
       "      <td>&lt;body&gt; &lt;div&gt; &lt;p&gt;&lt;i&gt;&lt;span style=\"font-family: C...</td>\n",
       "    </tr>\n",
       "    <tr>\n",
       "      <th>1</th>\n",
       "      <td>129127</td>\n",
       "      <td>Problemas con Notebook</td>\n",
       "      <td>&lt;div style=\"font-family: Calibri , Arial , Hel...</td>\n",
       "    </tr>\n",
       "    <tr>\n",
       "      <th>2</th>\n",
       "      <td>139841</td>\n",
       "      <td>SOLICITUD TRANSACCION K_TP_VALU</td>\n",
       "      <td>&lt;body&gt; Estiamdos otorgar privilegios para la t...</td>\n",
       "    </tr>\n",
       "    <tr>\n",
       "      <th>3</th>\n",
       "      <td>72603</td>\n",
       "      <td>ERROR EN GATILLADOR</td>\n",
       "      <td>&lt;body&gt; &lt;div&gt; &lt;p&gt;Estimados:&lt;/p&gt; &lt;p&gt; &lt;/p&gt; &lt;p&gt;Agr...</td>\n",
       "    </tr>\n",
       "    <tr>\n",
       "      <th>4</th>\n",
       "      <td>129127</td>\n",
       "      <td>RV: Asignar Equipo Notebook y Cuentas Correo /...</td>\n",
       "      <td>&lt;div&gt; &lt;p&gt;Estimados,&lt;/p&gt; &lt;p&gt; &lt;/p&gt; &lt;p&gt;Reitero so...</td>\n",
       "    </tr>\n",
       "    <tr>\n",
       "      <th>...</th>\n",
       "      <td>...</td>\n",
       "      <td>...</td>\n",
       "      <td>...</td>\n",
       "    </tr>\n",
       "    <tr>\n",
       "      <th>60182</th>\n",
       "      <td>146764</td>\n",
       "      <td>INSTALACION GOOGLE EARTH PRO</td>\n",
       "      <td>&lt;body&gt; &lt;div style=\"font-family: Calibri, Arial...</td>\n",
       "    </tr>\n",
       "    <tr>\n",
       "      <th>60183</th>\n",
       "      <td>171004</td>\n",
       "      <td>Problema en ACP Espejo para cargar tareas en s...</td>\n",
       "      <td>&lt;body style=\"\"&gt; &lt;div&gt; &lt;p class=\"MsoNormal\"&gt;Est...</td>\n",
       "    </tr>\n",
       "    <tr>\n",
       "      <th>60184</th>\n",
       "      <td>149280</td>\n",
       "      <td>Solicitud Configuración PC a Ploter Sr. Gabrie...</td>\n",
       "      <td>&lt;div&gt;&lt;p class=\"MsoNormal\"&gt;&lt;u&gt;Sres. Soporte&lt;/u&gt;...</td>\n",
       "    </tr>\n",
       "    <tr>\n",
       "      <th>60185</th>\n",
       "      <td>165002</td>\n",
       "      <td>Agente Paillaco</td>\n",
       "      <td>&lt;body&gt; &lt;div style=\"font-family: Calibri, Arial...</td>\n",
       "    </tr>\n",
       "    <tr>\n",
       "      <th>60186</th>\n",
       "      <td>129127</td>\n",
       "      <td>Clave de ingreso</td>\n",
       "      <td>&lt;div&gt;&lt;p class=\"MsoNormal\"&gt;Estimado&lt;br /&gt;&lt;/p&gt;&lt;p...</td>\n",
       "    </tr>\n",
       "  </tbody>\n",
       "</table>\n",
       "<p>60182 rows × 3 columns</p>\n",
       "</div>"
      ],
      "text/plain": [
       "      tecnico                                             asunto  \\\n",
       "0       63602      RE: Petición : ##268042## ha sido finalizada.   \n",
       "1      129127                             Problemas con Notebook   \n",
       "2      139841                    SOLICITUD TRANSACCION K_TP_VALU   \n",
       "3       72603                                ERROR EN GATILLADOR   \n",
       "4      129127  RV: Asignar Equipo Notebook y Cuentas Correo /...   \n",
       "...       ...                                                ...   \n",
       "60182  146764                       INSTALACION GOOGLE EARTH PRO   \n",
       "60183  171004  Problema en ACP Espejo para cargar tareas en s...   \n",
       "60184  149280  Solicitud Configuración PC a Ploter Sr. Gabrie...   \n",
       "60185  165002                                    Agente Paillaco   \n",
       "60186  129127                                   Clave de ingreso   \n",
       "\n",
       "                                             descripcion  \n",
       "0      <body> <div> <p><i><span style=\"font-family: C...  \n",
       "1      <div style=\"font-family: Calibri , Arial , Hel...  \n",
       "2      <body> Estiamdos otorgar privilegios para la t...  \n",
       "3      <body> <div> <p>Estimados:</p> <p> </p> <p>Agr...  \n",
       "4      <div> <p>Estimados,</p> <p> </p> <p>Reitero so...  \n",
       "...                                                  ...  \n",
       "60182  <body> <div style=\"font-family: Calibri, Arial...  \n",
       "60183  <body style=\"\"> <div> <p class=\"MsoNormal\">Est...  \n",
       "60184  <div><p class=\"MsoNormal\"><u>Sres. Soporte</u>...  \n",
       "60185  <body> <div style=\"font-family: Calibri, Arial...  \n",
       "60186  <div><p class=\"MsoNormal\">Estimado<br /></p><p...  \n",
       "\n",
       "[60182 rows x 3 columns]"
      ]
     },
     "execution_count": 4,
     "metadata": {},
     "output_type": "execute_result"
    }
   ],
   "source": [
    "df_tickets"
   ]
  },
  {
   "cell_type": "code",
   "execution_count": 5,
   "id": "68eb9a94",
   "metadata": {},
   "outputs": [],
   "source": [
    "def removeAccent(text):\n",
    "    text = unidecode.unidecode(text)\n",
    "    return text"
   ]
  },
  {
   "cell_type": "code",
   "execution_count": 6,
   "id": "0dce0b3d",
   "metadata": {},
   "outputs": [],
   "source": [
    "df_tickets['asunto'] = df_tickets['asunto'].apply(removeAccent)\n",
    "df_tickets['descripcion'] = df_tickets['descripcion'].apply(removeAccent)"
   ]
  },
  {
   "cell_type": "code",
   "execution_count": 7,
   "id": "79f72970",
   "metadata": {},
   "outputs": [],
   "source": [
    "data = stopwords.words('spanish')\n",
    "\n",
    "for i in range(len(data)):    \n",
    "    data[i] = removeAccent(data[i])"
   ]
  },
  {
   "cell_type": "code",
   "execution_count": 8,
   "id": "82e3baa1",
   "metadata": {},
   "outputs": [],
   "source": [
    "def removeString(data, regex):\n",
    "    return data.str.lower().str.replace(regex.lower(), ' ', regex=True)"
   ]
  },
  {
   "cell_type": "code",
   "execution_count": 9,
   "id": "d2ec2724",
   "metadata": {},
   "outputs": [],
   "source": [
    "def cleanDataset(dataset, columnsToClean, regexList):\n",
    "    for column in columnsToClean:\n",
    "        for regex in regexList:\n",
    "            dataset[column] = removeString(dataset[column], regex)\n",
    "    return dataset"
   ]
  },
  {
   "cell_type": "code",
   "execution_count": 10,
   "id": "5c788ad0",
   "metadata": {},
   "outputs": [],
   "source": [
    "def getRegexList():\n",
    "    regexList = []\n",
    "    regexList += ['estimados']\n",
    "    regexList += ['estimado']\n",
    "    regexList += ['gt']\n",
    "    regexList += ['lt']\n",
    "    regexList += ['&nbsp']\n",
    "    regexList += ['osorno']\n",
    "    regexList += ['gerencia']\n",
    "    regexList += ['href']\n",
    "    regexList += ['asunto']\n",
    "    regexList += ['enviado']\n",
    "    regexList += ['saesa']\n",
    "    regexList += ['informacion']\n",
    "    regexList += ['area']\n",
    "    regexList += ['ramirez']\n",
    "    regexList += ['fecha']\n",
    "    regexList += ['atte']\n",
    "    regexList += ['correo']\n",
    "    regexList += ['ayuda']\n",
    "    regexList += ['gracias']\n",
    "    regexList += ['piso']\n",
    "    regexList += ['empresa']\n",
    "    regexList += ['solicitud']\n",
    "    regexList += ['comentarios']\n",
    "    regexList += [' s ']\n",
    "    regexList += ['bulnes']\n",
    "    regexList += ['fono']\n",
    "    regexList += ['eleuterio']\n",
    "    regexList += ['gruposaesa']\n",
    "    regexList += ['muchas']\n",
    "\n",
    "    regexList += ['www']\n",
    "    regexList += ['CC']\n",
    "    regexList += ['RE:']  # received data line\n",
    "    regexList += ['RV:']  # received data line\n",
    "    #regexList += ['From:(.*)\\r\\n']  # from line\n",
    "    # regexList += ['RITM[0-9]*'] # request id\n",
    "    # regexList += ['INC[0-9]*'] # incident id\n",
    "    # regexList += ['TKT[0-9]*'] # ticket id\n",
    "    #regexList += ['Sent:(.*)\\r\\n']  # sent to line\n",
    "    #regexList += ['Received:(.*)\\r\\n']  # received data line\n",
    "    #regexList += ['@saesa.cl']  # received data line\n",
    "    #regexList += ['To:(.*)\\r\\n']  # to line\n",
    "    #regexList += ['CC:(.*)\\r\\n']  # cc line\n",
    "    #regexList += ['The information(.*)infection']  # footer\n",
    "    #regexList += ['Endava Limited is a company(.*)or omissions']  # footer\n",
    "    #regexList += ['The information in this email is confidential and may be legally(.*)interference if you are not the intended recipient']  # footer\n",
    "    regexList += ['\\[cid:(.*)]']  # images cid\n",
    "    regexList += ['https?:[^\\]\\n\\r]+']  # https & http\n",
    "    #regexList += ['Subject:']\n",
    "    regexList += ['[\\w\\d\\-\\_\\.]+@[\\w\\d\\-\\_\\.]+']  # emails\n",
    "    # regexList += ['[0-9][\\-0–90-9 ]+']  # phones\n",
    "    # regexList += ['[0-9]']  # numbers\n",
    "    # regexList += ['[^a-zA-z 0-9]+']  # anything that is not a letter\n",
    "    # regexList += ['[\\r\\n]']  # \\r\\n\n",
    "    # regexList += [' [a-zA-Z] ']  # single letters\n",
    "    # regexList += [' [a-zA-Z][a-zA-Z] ']  # two-letter words\n",
    "    regexList += ['<[^<]+?>']\n",
    "    regexList += [\"  \"]  # double spaces\n",
    "    regexList += ['^[_a-z0-9-]+(\\.[_a-z0-9-]+)*@[a-z0-9-]+(\\.[a-z0-9-]+)*(\\.[a-z]{2,4})$']\n",
    "    regexList += ['[^a-zA-Z]']\n",
    "    \n",
    "\n",
    "    return regexList"
   ]
  },
  {
   "cell_type": "code",
   "execution_count": 11,
   "id": "f0e632c1",
   "metadata": {},
   "outputs": [
    {
     "data": {
      "text/html": [
       "<div>\n",
       "<style scoped>\n",
       "    .dataframe tbody tr th:only-of-type {\n",
       "        vertical-align: middle;\n",
       "    }\n",
       "\n",
       "    .dataframe tbody tr th {\n",
       "        vertical-align: top;\n",
       "    }\n",
       "\n",
       "    .dataframe thead th {\n",
       "        text-align: right;\n",
       "    }\n",
       "</style>\n",
       "<table border=\"1\" class=\"dataframe\">\n",
       "  <thead>\n",
       "    <tr style=\"text-align: right;\">\n",
       "      <th></th>\n",
       "      <th>tecnico</th>\n",
       "      <th>asunto</th>\n",
       "      <th>descripcion</th>\n",
       "    </tr>\n",
       "  </thead>\n",
       "  <tbody>\n",
       "    <tr>\n",
       "      <th>0</th>\n",
       "      <td>63602</td>\n",
       "      <td>peticion              ha sido finalizada</td>\n",
       "      <td>a la  no hemos recibido el lector nuevo ...</td>\n",
       "    </tr>\n",
       "    <tr>\n",
       "      <th>1</th>\n",
       "      <td>129127</td>\n",
       "      <td>problemas con notebook</td>\n",
       "      <td>personal de soporte      soy julio ahumada  ...</td>\n",
       "    </tr>\n",
       "    <tr>\n",
       "      <th>2</th>\n",
       "      <td>139841</td>\n",
       "      <td>transa ion k tp valu</td>\n",
       "      <td>estiamdos otorgar privilegios para la transa ...</td>\n",
       "    </tr>\n",
       "    <tr>\n",
       "      <th>3</th>\n",
       "      <td>72603</td>\n",
       "      <td>error en gatillador</td>\n",
       "      <td>agradecere ver el sistema de medicion ...</td>\n",
       "    </tr>\n",
       "    <tr>\n",
       "      <th>4</th>\n",
       "      <td>129127</td>\n",
       "      <td>asignar equipo notebook y cuentas    sap</td>\n",
       "      <td>reitero     saludos            christia...</td>\n",
       "    </tr>\n",
       "    <tr>\n",
       "      <th>...</th>\n",
       "      <td>...</td>\n",
       "      <td>...</td>\n",
       "      <td>...</td>\n",
       "    </tr>\n",
       "    <tr>\n",
       "      <th>60182</th>\n",
       "      <td>146764</td>\n",
       "      <td>instalacion google earth pro</td>\n",
       "      <td>favor su  en instalacion de aplicacio...</td>\n",
       "    </tr>\n",
       "    <tr>\n",
       "      <th>60183</th>\n",
       "      <td>171004</td>\n",
       "      <td>problema en acp espejo para cargar t en subzon...</td>\n",
       "      <td>favor su  con problema detectado por ...</td>\n",
       "    </tr>\n",
       "    <tr>\n",
       "      <th>60184</th>\n",
       "      <td>149280</td>\n",
       "      <td>configuracion pc a ploter sr  gabriel martinez</td>\n",
       "      <td>sres  soporte      junto con saludar  agrade...</td>\n",
       "    </tr>\n",
       "    <tr>\n",
       "      <th>60185</th>\n",
       "      <td>165002</td>\n",
       "      <td>agente paillaco</td>\n",
       "      <td>favor su  para incorporar agente a pc de ...</td>\n",
       "    </tr>\n",
       "    <tr>\n",
       "      <th>60186</th>\n",
       "      <td>129127</td>\n",
       "      <td>clave de ingreso</td>\n",
       "      <td>junto con saludar  necesito  con mi cla...</td>\n",
       "    </tr>\n",
       "  </tbody>\n",
       "</table>\n",
       "<p>60182 rows × 3 columns</p>\n",
       "</div>"
      ],
      "text/plain": [
       "      tecnico                                             asunto  \\\n",
       "0       63602          peticion              ha sido finalizada    \n",
       "1      129127                             problemas con notebook   \n",
       "2      139841                               transa ion k tp valu   \n",
       "3       72603                                error en gatillador   \n",
       "4      129127           asignar equipo notebook y cuentas    sap   \n",
       "...       ...                                                ...   \n",
       "60182  146764                       instalacion google earth pro   \n",
       "60183  171004  problema en acp espejo para cargar t en subzon...   \n",
       "60184  149280     configuracion pc a ploter sr  gabriel martinez   \n",
       "60185  165002                                    agente paillaco   \n",
       "60186  129127                                   clave de ingreso   \n",
       "\n",
       "                                             descripcion  \n",
       "0            a la  no hemos recibido el lector nuevo ...  \n",
       "1        personal de soporte      soy julio ahumada  ...  \n",
       "2       estiamdos otorgar privilegios para la transa ...  \n",
       "3              agradecere ver el sistema de medicion ...  \n",
       "4             reitero     saludos            christia...  \n",
       "...                                                  ...  \n",
       "60182           favor su  en instalacion de aplicacio...  \n",
       "60183           favor su  con problema detectado por ...  \n",
       "60184    sres  soporte      junto con saludar  agrade...  \n",
       "60185       favor su  para incorporar agente a pc de ...  \n",
       "60186         junto con saludar  necesito  con mi cla...  \n",
       "\n",
       "[60182 rows x 3 columns]"
      ]
     },
     "execution_count": 11,
     "metadata": {},
     "output_type": "execute_result"
    }
   ],
   "source": [
    "columnsToClean = ['asunto', 'descripcion']\n",
    "cleanDataset(df_tickets, columnsToClean, getRegexList())"
   ]
  },
  {
   "cell_type": "code",
   "execution_count": 12,
   "id": "e97e9a14",
   "metadata": {},
   "outputs": [],
   "source": [
    "tecnico = df_tickets['tecnico']"
   ]
  },
  {
   "cell_type": "code",
   "execution_count": 13,
   "id": "1a2c92fc",
   "metadata": {},
   "outputs": [],
   "source": [
    "df_tickets['todo'] = df_tickets['asunto'] + ' ' + df_tickets['descripcion']"
   ]
  },
  {
   "cell_type": "code",
   "execution_count": 14,
   "id": "144d280f",
   "metadata": {},
   "outputs": [],
   "source": [
    "del df_tickets['tecnico']\n",
    "del df_tickets['asunto']\n",
    "del df_tickets['descripcion']"
   ]
  },
  {
   "cell_type": "code",
   "execution_count": 15,
   "id": "679847f6",
   "metadata": {},
   "outputs": [],
   "source": [
    "X_train, X_test, y_train, y_test  = train_test_split(df_tickets['todo'], tecnico, test_size = 0.2, random_state = 1)"
   ]
  },
  {
   "cell_type": "code",
   "execution_count": 16,
   "id": "8d965364",
   "metadata": {},
   "outputs": [
    {
     "data": {
      "text/plain": [
       "0.6075434078258702"
      ]
     },
     "execution_count": 16,
     "metadata": {},
     "output_type": "execute_result"
    }
   ],
   "source": [
    "text_clf_svm = Pipeline([('vect', CountVectorizer(stop_words=data)),\n",
    "                         ('tfidf', TfidfTransformer()),\n",
    "                         ('clf-svm', SGDClassifier(loss='hinge', penalty='l2',alpha=1e-3, max_iter=15, random_state=42)),\n",
    "                        ])\n",
    "_ = text_clf_svm.fit(X_train, y_train)\n",
    "predicted_svm = text_clf_svm.predict(X_test)\n",
    "np.mean(predicted_svm == y_test)"
   ]
  },
  {
   "cell_type": "code",
   "execution_count": null,
   "id": "f3e6db13",
   "metadata": {},
   "outputs": [],
   "source": [
    "print(data)"
   ]
  },
  {
   "cell_type": "code",
   "execution_count": null,
   "id": "f0b49220",
   "metadata": {},
   "outputs": [],
   "source": [
    "counts = pd.Series(''.join(df_tickets.todo).split()).value_counts()\n",
    "counts.to_csv(r'File Name.csv')"
   ]
  },
  {
   "cell_type": "code",
   "execution_count": null,
   "id": "7775d0cf",
   "metadata": {},
   "outputs": [],
   "source": [
    "df_tickets2 = pd.read_csv('test1.csv', sep=';', quotechar = '\\'')"
   ]
  },
  {
   "cell_type": "code",
   "execution_count": null,
   "id": "70cdda9e",
   "metadata": {},
   "outputs": [],
   "source": [
    "df_tickets2['asunto'] = df_tickets2['asunto'].apply(removeAccent)\n",
    "df_tickets2['descripcion'] = df_tickets2['descripcion'].apply(removeAccent)"
   ]
  },
  {
   "cell_type": "code",
   "execution_count": null,
   "id": "9ac8161c",
   "metadata": {},
   "outputs": [],
   "source": [
    "cleanDataset(df_tickets2, columnsToClean, getRegexList())"
   ]
  },
  {
   "cell_type": "code",
   "execution_count": null,
   "id": "bec2c094",
   "metadata": {},
   "outputs": [],
   "source": [
    "df_tickets2['todo'] = df_tickets2['asunto'] + ' ' + df_tickets2['descripcion']"
   ]
  },
  {
   "cell_type": "code",
   "execution_count": null,
   "id": "e2556c76",
   "metadata": {},
   "outputs": [],
   "source": [
    "del df_tickets2['tecnico']\n",
    "del df_tickets2['asunto']\n",
    "del df_tickets2['descripcion']"
   ]
  },
  {
   "cell_type": "code",
   "execution_count": null,
   "id": "a33c49a8",
   "metadata": {},
   "outputs": [],
   "source": [
    "df_tickets2"
   ]
  },
  {
   "cell_type": "code",
   "execution_count": null,
   "id": "2ac4c07c",
   "metadata": {},
   "outputs": [],
   "source": [
    "X_train"
   ]
  },
  {
   "cell_type": "code",
   "execution_count": null,
   "id": "68d1265c",
   "metadata": {},
   "outputs": [],
   "source": [
    "predicted_svm2 = text_clf_svm.predict(df_tickets2)"
   ]
  },
  {
   "cell_type": "code",
   "execution_count": null,
   "id": "d7b443ea",
   "metadata": {},
   "outputs": [],
   "source": [
    "print(predicted_svm2)"
   ]
  }
 ],
 "metadata": {
  "kernelspec": {
   "display_name": "Python 3",
   "language": "python",
   "name": "python3"
  },
  "language_info": {
   "codemirror_mode": {
    "name": "ipython",
    "version": 3
   },
   "file_extension": ".py",
   "mimetype": "text/x-python",
   "name": "python",
   "nbconvert_exporter": "python",
   "pygments_lexer": "ipython3",
   "version": "3.8.10"
  }
 },
 "nbformat": 4,
 "nbformat_minor": 5
}
