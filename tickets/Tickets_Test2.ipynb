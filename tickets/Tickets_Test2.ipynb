{
 "cells": [
  {
   "cell_type": "code",
   "execution_count": 1,
   "id": "6de35643",
   "metadata": {},
   "outputs": [],
   "source": [
    "import pandas as pd\n",
    "from sklearn.model_selection import train_test_split\n",
    "from sklearn.model_selection import GridSearchCV\n",
    "from sklearn.naive_bayes import MultinomialNB\n",
    "from sklearn.feature_extraction.text import TfidfTransformer\n",
    "from sklearn.feature_extraction.text import CountVectorizer\n",
    "from sklearn.pipeline import Pipeline\n",
    "from sklearn.linear_model import SGDClassifier\n",
    "import numpy as np\n",
    "from nltk.corpus import stopwords\n",
    "import unidecode"
   ]
  },
  {
   "cell_type": "code",
   "execution_count": 2,
   "id": "2bff44e9",
   "metadata": {},
   "outputs": [],
   "source": [
    "df_tickets = pd.read_csv('tickets_asunto.csv', sep=';', quotechar = '\\'')"
   ]
  },
  {
   "cell_type": "code",
   "execution_count": 3,
   "id": "9ca558ff",
   "metadata": {},
   "outputs": [],
   "source": [
    "df_tickets.dropna(inplace=True)"
   ]
  },
  {
   "cell_type": "code",
   "execution_count": 4,
   "id": "5659f49b",
   "metadata": {},
   "outputs": [
    {
     "data": {
      "text/html": [
       "<div>\n",
       "<style scoped>\n",
       "    .dataframe tbody tr th:only-of-type {\n",
       "        vertical-align: middle;\n",
       "    }\n",
       "\n",
       "    .dataframe tbody tr th {\n",
       "        vertical-align: top;\n",
       "    }\n",
       "\n",
       "    .dataframe thead th {\n",
       "        text-align: right;\n",
       "    }\n",
       "</style>\n",
       "<table border=\"1\" class=\"dataframe\">\n",
       "  <thead>\n",
       "    <tr style=\"text-align: right;\">\n",
       "      <th></th>\n",
       "      <th>tecnico</th>\n",
       "      <th>asunto</th>\n",
       "      <th>descripcion</th>\n",
       "    </tr>\n",
       "  </thead>\n",
       "  <tbody>\n",
       "    <tr>\n",
       "      <th>0</th>\n",
       "      <td>63602</td>\n",
       "      <td>RE: Petición : ##268042## ha sido finalizada.</td>\n",
       "      <td>&lt;body&gt; &lt;div&gt; &lt;p&gt;&lt;i&gt;&lt;span style=\"font-family: C...</td>\n",
       "    </tr>\n",
       "    <tr>\n",
       "      <th>1</th>\n",
       "      <td>129127</td>\n",
       "      <td>Problemas con Notebook</td>\n",
       "      <td>&lt;div style=\"font-family: Calibri , Arial , Hel...</td>\n",
       "    </tr>\n",
       "    <tr>\n",
       "      <th>2</th>\n",
       "      <td>139841</td>\n",
       "      <td>SOLICITUD TRANSACCION K_TP_VALU</td>\n",
       "      <td>&lt;body&gt; Estiamdos otorgar privilegios para la t...</td>\n",
       "    </tr>\n",
       "    <tr>\n",
       "      <th>3</th>\n",
       "      <td>72603</td>\n",
       "      <td>ERROR EN GATILLADOR</td>\n",
       "      <td>&lt;body&gt; &lt;div&gt; &lt;p&gt;Estimados:&lt;/p&gt; &lt;p&gt; &lt;/p&gt; &lt;p&gt;Agr...</td>\n",
       "    </tr>\n",
       "    <tr>\n",
       "      <th>4</th>\n",
       "      <td>129127</td>\n",
       "      <td>RV: Asignar Equipo Notebook y Cuentas Correo /...</td>\n",
       "      <td>&lt;div&gt; &lt;p&gt;Estimados,&lt;/p&gt; &lt;p&gt; &lt;/p&gt; &lt;p&gt;Reitero so...</td>\n",
       "    </tr>\n",
       "    <tr>\n",
       "      <th>...</th>\n",
       "      <td>...</td>\n",
       "      <td>...</td>\n",
       "      <td>...</td>\n",
       "    </tr>\n",
       "    <tr>\n",
       "      <th>60182</th>\n",
       "      <td>146764</td>\n",
       "      <td>INSTALACION GOOGLE EARTH PRO</td>\n",
       "      <td>&lt;body&gt; &lt;div style=\"font-family: Calibri, Arial...</td>\n",
       "    </tr>\n",
       "    <tr>\n",
       "      <th>60183</th>\n",
       "      <td>171004</td>\n",
       "      <td>Problema en ACP Espejo para cargar tareas en s...</td>\n",
       "      <td>&lt;body style=\"\"&gt; &lt;div&gt; &lt;p class=\"MsoNormal\"&gt;Est...</td>\n",
       "    </tr>\n",
       "    <tr>\n",
       "      <th>60184</th>\n",
       "      <td>149280</td>\n",
       "      <td>Solicitud Configuración PC a Ploter Sr. Gabrie...</td>\n",
       "      <td>&lt;div&gt;&lt;p class=\"MsoNormal\"&gt;&lt;u&gt;Sres. Soporte&lt;/u&gt;...</td>\n",
       "    </tr>\n",
       "    <tr>\n",
       "      <th>60185</th>\n",
       "      <td>165002</td>\n",
       "      <td>Agente Paillaco</td>\n",
       "      <td>&lt;body&gt; &lt;div style=\"font-family: Calibri, Arial...</td>\n",
       "    </tr>\n",
       "    <tr>\n",
       "      <th>60186</th>\n",
       "      <td>129127</td>\n",
       "      <td>Clave de ingreso</td>\n",
       "      <td>&lt;div&gt;&lt;p class=\"MsoNormal\"&gt;Estimado&lt;br /&gt;&lt;/p&gt;&lt;p...</td>\n",
       "    </tr>\n",
       "  </tbody>\n",
       "</table>\n",
       "<p>60182 rows × 3 columns</p>\n",
       "</div>"
      ],
      "text/plain": [
       "      tecnico                                             asunto  \\\n",
       "0       63602      RE: Petición : ##268042## ha sido finalizada.   \n",
       "1      129127                             Problemas con Notebook   \n",
       "2      139841                    SOLICITUD TRANSACCION K_TP_VALU   \n",
       "3       72603                                ERROR EN GATILLADOR   \n",
       "4      129127  RV: Asignar Equipo Notebook y Cuentas Correo /...   \n",
       "...       ...                                                ...   \n",
       "60182  146764                       INSTALACION GOOGLE EARTH PRO   \n",
       "60183  171004  Problema en ACP Espejo para cargar tareas en s...   \n",
       "60184  149280  Solicitud Configuración PC a Ploter Sr. Gabrie...   \n",
       "60185  165002                                    Agente Paillaco   \n",
       "60186  129127                                   Clave de ingreso   \n",
       "\n",
       "                                             descripcion  \n",
       "0      <body> <div> <p><i><span style=\"font-family: C...  \n",
       "1      <div style=\"font-family: Calibri , Arial , Hel...  \n",
       "2      <body> Estiamdos otorgar privilegios para la t...  \n",
       "3      <body> <div> <p>Estimados:</p> <p> </p> <p>Agr...  \n",
       "4      <div> <p>Estimados,</p> <p> </p> <p>Reitero so...  \n",
       "...                                                  ...  \n",
       "60182  <body> <div style=\"font-family: Calibri, Arial...  \n",
       "60183  <body style=\"\"> <div> <p class=\"MsoNormal\">Est...  \n",
       "60184  <div><p class=\"MsoNormal\"><u>Sres. Soporte</u>...  \n",
       "60185  <body> <div style=\"font-family: Calibri, Arial...  \n",
       "60186  <div><p class=\"MsoNormal\">Estimado<br /></p><p...  \n",
       "\n",
       "[60182 rows x 3 columns]"
      ]
     },
     "execution_count": 4,
     "metadata": {},
     "output_type": "execute_result"
    }
   ],
   "source": [
    "df_tickets"
   ]
  },
  {
   "cell_type": "code",
   "execution_count": 5,
   "id": "d2ec2724",
   "metadata": {},
   "outputs": [],
   "source": [
    "def accented_to_ascii(text):\n",
    "    text = unidecode.unidecode(text)\n",
    "    return text"
   ]
  },
  {
   "cell_type": "code",
   "execution_count": 6,
   "id": "ac3bffa9",
   "metadata": {},
   "outputs": [],
   "source": [
    "df_tickets['descripcion'] = df_tickets['descripcion'].str.replace('<[^<]+?>',' ', regex=True).str.replace('&nbsp',' ', regex=True).str.replace('[^\\w\\s]',' ', regex=True).apply(str.lower).str.replace('estimados','').str.replace('estimado','').str.replace('\\xa0','').str.replace('\\d+' ,'', regex=True).apply(accented_to_ascii)"
   ]
  },
  {
   "cell_type": "code",
   "execution_count": 7,
   "id": "e9b41e1f",
   "metadata": {},
   "outputs": [],
   "source": [
    "df_tickets['asunto'] = df_tickets['asunto'].apply(str.lower).str.replace('rv:','').str.replace('re:','').str.replace('<[^<]+?>',' ', regex=True).str.replace('&nbsp',' ', regex=True).str.replace('[^\\w\\s]',' ', regex=True).apply(str.lower).str.replace('\\d+' ,'', regex=True).apply(accented_to_ascii)"
   ]
  },
  {
   "cell_type": "code",
   "execution_count": 8,
   "id": "345a698e",
   "metadata": {},
   "outputs": [],
   "source": [
    "df_tickets['todo'] = df_tickets['asunto'] + ' ' + df_tickets['descripcion']"
   ]
  },
  {
   "cell_type": "code",
   "execution_count": 9,
   "id": "1e547cc1",
   "metadata": {},
   "outputs": [
    {
     "data": {
      "text/html": [
       "<div>\n",
       "<style scoped>\n",
       "    .dataframe tbody tr th:only-of-type {\n",
       "        vertical-align: middle;\n",
       "    }\n",
       "\n",
       "    .dataframe tbody tr th {\n",
       "        vertical-align: top;\n",
       "    }\n",
       "\n",
       "    .dataframe thead th {\n",
       "        text-align: right;\n",
       "    }\n",
       "</style>\n",
       "<table border=\"1\" class=\"dataframe\">\n",
       "  <thead>\n",
       "    <tr style=\"text-align: right;\">\n",
       "      <th></th>\n",
       "      <th>tecnico</th>\n",
       "      <th>asunto</th>\n",
       "      <th>descripcion</th>\n",
       "      <th>todo</th>\n",
       "    </tr>\n",
       "  </thead>\n",
       "  <tbody>\n",
       "    <tr>\n",
       "      <th>0</th>\n",
       "      <td>63602</td>\n",
       "      <td>peticion        ha sido finalizada</td>\n",
       "      <td>a la fecha no hemos recibido el lecto...</td>\n",
       "      <td>peticion        ha sido finalizada           ...</td>\n",
       "    </tr>\n",
       "    <tr>\n",
       "      <th>1</th>\n",
       "      <td>129127</td>\n",
       "      <td>problemas con notebook</td>\n",
       "      <td>personal de soporte           soy julio ahu...</td>\n",
       "      <td>problemas con notebook    personal de soporte ...</td>\n",
       "    </tr>\n",
       "    <tr>\n",
       "      <th>2</th>\n",
       "      <td>139841</td>\n",
       "      <td>solicitud transaccion k_tp_valu</td>\n",
       "      <td>estiamdos otorgar privilegios para la transa...</td>\n",
       "      <td>solicitud transaccion k_tp_valu   estiamdos ot...</td>\n",
       "    </tr>\n",
       "    <tr>\n",
       "      <th>3</th>\n",
       "      <td>72603</td>\n",
       "      <td>error en gatillador</td>\n",
       "      <td>agradecere ver el sistema de medic...</td>\n",
       "      <td>error en gatillador             agradecere ver...</td>\n",
       "    </tr>\n",
       "    <tr>\n",
       "      <th>4</th>\n",
       "      <td>129127</td>\n",
       "      <td>asignar equipo notebook y cuentas correo   sap</td>\n",
       "      <td>reitero solicitud      saludos      ...</td>\n",
       "      <td>asignar equipo notebook y cuentas correo   sa...</td>\n",
       "    </tr>\n",
       "    <tr>\n",
       "      <th>...</th>\n",
       "      <td>...</td>\n",
       "      <td>...</td>\n",
       "      <td>...</td>\n",
       "      <td>...</td>\n",
       "    </tr>\n",
       "    <tr>\n",
       "      <th>60182</th>\n",
       "      <td>146764</td>\n",
       "      <td>instalacion google earth pro</td>\n",
       "      <td>favor su ayuda en instalacion d...</td>\n",
       "      <td>instalacion google earth pro                fa...</td>\n",
       "    </tr>\n",
       "    <tr>\n",
       "      <th>60183</th>\n",
       "      <td>171004</td>\n",
       "      <td>problema en acp espejo para cargar tareas en s...</td>\n",
       "      <td>favor su ayuda con problema dete...</td>\n",
       "      <td>problema en acp espejo para cargar tareas en s...</td>\n",
       "    </tr>\n",
       "    <tr>\n",
       "      <th>60184</th>\n",
       "      <td>149280</td>\n",
       "      <td>solicitud configuracion pc a ploter sr  gabrie...</td>\n",
       "      <td>sres  soporte         junto con saludar  ag...</td>\n",
       "      <td>solicitud configuracion pc a ploter sr  gabrie...</td>\n",
       "    </tr>\n",
       "    <tr>\n",
       "      <th>60185</th>\n",
       "      <td>165002</td>\n",
       "      <td>agente paillaco</td>\n",
       "      <td>favor su ayuda para incorporar agente a ...</td>\n",
       "      <td>agente paillaco       favor su ayuda para inco...</td>\n",
       "    </tr>\n",
       "    <tr>\n",
       "      <th>60186</th>\n",
       "      <td>129127</td>\n",
       "      <td>clave de ingreso</td>\n",
       "      <td>junto con saludar  necesito ayuda co...</td>\n",
       "      <td>clave de ingreso           junto con saludar  ...</td>\n",
       "    </tr>\n",
       "  </tbody>\n",
       "</table>\n",
       "<p>60182 rows × 4 columns</p>\n",
       "</div>"
      ],
      "text/plain": [
       "      tecnico                                             asunto  \\\n",
       "0       63602                peticion        ha sido finalizada    \n",
       "1      129127                             problemas con notebook   \n",
       "2      139841                    solicitud transaccion k_tp_valu   \n",
       "3       72603                                error en gatillador   \n",
       "4      129127     asignar equipo notebook y cuentas correo   sap   \n",
       "...       ...                                                ...   \n",
       "60182  146764                       instalacion google earth pro   \n",
       "60183  171004  problema en acp espejo para cargar tareas en s...   \n",
       "60184  149280  solicitud configuracion pc a ploter sr  gabrie...   \n",
       "60185  165002                                    agente paillaco   \n",
       "60186  129127                                   clave de ingreso   \n",
       "\n",
       "                                             descripcion  \\\n",
       "0               a la fecha no hemos recibido el lecto...   \n",
       "1         personal de soporte           soy julio ahu...   \n",
       "2        estiamdos otorgar privilegios para la transa...   \n",
       "3                  agradecere ver el sistema de medic...   \n",
       "4                reitero solicitud      saludos      ...   \n",
       "...                                                  ...   \n",
       "60182                 favor su ayuda en instalacion d...   \n",
       "60183                favor su ayuda con problema dete...   \n",
       "60184     sres  soporte         junto con saludar  ag...   \n",
       "60185        favor su ayuda para incorporar agente a ...   \n",
       "60186            junto con saludar  necesito ayuda co...   \n",
       "\n",
       "                                                    todo  \n",
       "0       peticion        ha sido finalizada           ...  \n",
       "1      problemas con notebook    personal de soporte ...  \n",
       "2      solicitud transaccion k_tp_valu   estiamdos ot...  \n",
       "3      error en gatillador             agradecere ver...  \n",
       "4       asignar equipo notebook y cuentas correo   sa...  \n",
       "...                                                  ...  \n",
       "60182  instalacion google earth pro                fa...  \n",
       "60183  problema en acp espejo para cargar tareas en s...  \n",
       "60184  solicitud configuracion pc a ploter sr  gabrie...  \n",
       "60185  agente paillaco       favor su ayuda para inco...  \n",
       "60186  clave de ingreso           junto con saludar  ...  \n",
       "\n",
       "[60182 rows x 4 columns]"
      ]
     },
     "execution_count": 9,
     "metadata": {},
     "output_type": "execute_result"
    }
   ],
   "source": [
    "df_tickets"
   ]
  },
  {
   "cell_type": "code",
   "execution_count": 10,
   "id": "44bd3d4d",
   "metadata": {},
   "outputs": [],
   "source": [
    "tecnico = df_tickets['tecnico']"
   ]
  },
  {
   "cell_type": "code",
   "execution_count": 11,
   "id": "81dfb88c",
   "metadata": {},
   "outputs": [],
   "source": [
    "del df_tickets['tecnico']"
   ]
  },
  {
   "cell_type": "code",
   "execution_count": 12,
   "id": "952166b0",
   "metadata": {},
   "outputs": [],
   "source": [
    "del df_tickets['asunto']\n",
    "del df_tickets['descripcion']"
   ]
  },
  {
   "cell_type": "code",
   "execution_count": 13,
   "id": "f46ad904",
   "metadata": {},
   "outputs": [
    {
     "data": {
      "text/html": [
       "<div>\n",
       "<style scoped>\n",
       "    .dataframe tbody tr th:only-of-type {\n",
       "        vertical-align: middle;\n",
       "    }\n",
       "\n",
       "    .dataframe tbody tr th {\n",
       "        vertical-align: top;\n",
       "    }\n",
       "\n",
       "    .dataframe thead th {\n",
       "        text-align: right;\n",
       "    }\n",
       "</style>\n",
       "<table border=\"1\" class=\"dataframe\">\n",
       "  <thead>\n",
       "    <tr style=\"text-align: right;\">\n",
       "      <th></th>\n",
       "      <th>todo</th>\n",
       "    </tr>\n",
       "  </thead>\n",
       "  <tbody>\n",
       "    <tr>\n",
       "      <th>0</th>\n",
       "      <td>peticion        ha sido finalizada           ...</td>\n",
       "    </tr>\n",
       "    <tr>\n",
       "      <th>1</th>\n",
       "      <td>problemas con notebook    personal de soporte ...</td>\n",
       "    </tr>\n",
       "    <tr>\n",
       "      <th>2</th>\n",
       "      <td>solicitud transaccion k_tp_valu   estiamdos ot...</td>\n",
       "    </tr>\n",
       "    <tr>\n",
       "      <th>3</th>\n",
       "      <td>error en gatillador             agradecere ver...</td>\n",
       "    </tr>\n",
       "    <tr>\n",
       "      <th>4</th>\n",
       "      <td>asignar equipo notebook y cuentas correo   sa...</td>\n",
       "    </tr>\n",
       "    <tr>\n",
       "      <th>...</th>\n",
       "      <td>...</td>\n",
       "    </tr>\n",
       "    <tr>\n",
       "      <th>60182</th>\n",
       "      <td>instalacion google earth pro                fa...</td>\n",
       "    </tr>\n",
       "    <tr>\n",
       "      <th>60183</th>\n",
       "      <td>problema en acp espejo para cargar tareas en s...</td>\n",
       "    </tr>\n",
       "    <tr>\n",
       "      <th>60184</th>\n",
       "      <td>solicitud configuracion pc a ploter sr  gabrie...</td>\n",
       "    </tr>\n",
       "    <tr>\n",
       "      <th>60185</th>\n",
       "      <td>agente paillaco       favor su ayuda para inco...</td>\n",
       "    </tr>\n",
       "    <tr>\n",
       "      <th>60186</th>\n",
       "      <td>clave de ingreso           junto con saludar  ...</td>\n",
       "    </tr>\n",
       "  </tbody>\n",
       "</table>\n",
       "<p>60182 rows × 1 columns</p>\n",
       "</div>"
      ],
      "text/plain": [
       "                                                    todo\n",
       "0       peticion        ha sido finalizada           ...\n",
       "1      problemas con notebook    personal de soporte ...\n",
       "2      solicitud transaccion k_tp_valu   estiamdos ot...\n",
       "3      error en gatillador             agradecere ver...\n",
       "4       asignar equipo notebook y cuentas correo   sa...\n",
       "...                                                  ...\n",
       "60182  instalacion google earth pro                fa...\n",
       "60183  problema en acp espejo para cargar tareas en s...\n",
       "60184  solicitud configuracion pc a ploter sr  gabrie...\n",
       "60185  agente paillaco       favor su ayuda para inco...\n",
       "60186  clave de ingreso           junto con saludar  ...\n",
       "\n",
       "[60182 rows x 1 columns]"
      ]
     },
     "execution_count": 13,
     "metadata": {},
     "output_type": "execute_result"
    }
   ],
   "source": [
    "df_tickets"
   ]
  },
  {
   "cell_type": "code",
   "execution_count": 14,
   "id": "4a75fafa",
   "metadata": {},
   "outputs": [],
   "source": [
    "X_train, X_test, y_train, y_test  = train_test_split(df_tickets['todo'], tecnico, test_size = 0.2, random_state = 1)"
   ]
  },
  {
   "cell_type": "code",
   "execution_count": 15,
   "id": "1bb65bc5",
   "metadata": {},
   "outputs": [
    {
     "data": {
      "text/plain": [
       "0.6111157265099277"
      ]
     },
     "execution_count": 15,
     "metadata": {},
     "output_type": "execute_result"
    }
   ],
   "source": [
    "text_clf_svm = Pipeline([('vect', CountVectorizer(stop_words=stopwords.words('spanish'))),\n",
    "                         ('tfidf', TfidfTransformer()),\n",
    "                         ('clf-svm', SGDClassifier(loss='hinge', penalty='l2',alpha=1e-3, max_iter=15, random_state=42)),\n",
    "                        ])\n",
    "_ = text_clf_svm.fit(X_train, y_train)\n",
    "predicted_svm = text_clf_svm.predict(X_test)\n",
    "np.mean(predicted_svm == y_test)"
   ]
  },
  {
   "cell_type": "code",
   "execution_count": 16,
   "id": "4c2d027c",
   "metadata": {},
   "outputs": [
    {
     "data": {
      "text/plain": [
       "de                         496498\n",
       "cl                         239121\n",
       "saesa                      201745\n",
       "gt                         183292\n",
       "lt                         172298\n",
       "                            ...  \n",
       "oscar_v                         1\n",
       "hob                             1\n",
       "modificarle                     1\n",
       "prodcutivo                      1\n",
       "grp_coordinador_cabrero         1\n",
       "Length: 68622, dtype: int64"
      ]
     },
     "execution_count": 16,
     "metadata": {},
     "output_type": "execute_result"
    }
   ],
   "source": [
    "counts = pd.Series(''.join(df_tickets.todo).split()).value_counts()\n",
    "counts"
   ]
  },
  {
   "cell_type": "code",
   "execution_count": 17,
   "id": "10f8bc01",
   "metadata": {},
   "outputs": [
    {
     "data": {
      "text/plain": [
       "de                         496498\n",
       "cl                         239121\n",
       "saesa                      201745\n",
       "gt                         183292\n",
       "lt                         172298\n",
       "                            ...  \n",
       "oscar_v                         1\n",
       "hob                             1\n",
       "modificarle                     1\n",
       "prodcutivo                      1\n",
       "grp_coordinador_cabrero         1\n",
       "Length: 68622, dtype: int64"
      ]
     },
     "execution_count": 17,
     "metadata": {},
     "output_type": "execute_result"
    }
   ],
   "source": [
    "high_freq = counts[:int(pd.Series(''.join(df_tickets.todo).split()).count()*1/100)]\n",
    "high_freq"
   ]
  },
  {
   "cell_type": "code",
   "execution_count": 18,
   "id": "fd16d582",
   "metadata": {},
   "outputs": [
    {
     "data": {
      "text/plain": [
       "'cuenta_ad_no_reg_cristian daniel_sepulveda  nota  la informacion del usuario no se encuentra validada    jefe directo gestor tecnico  edison pedro barria gomez  informacion basica del trabajador      rut      trabajador    externo   contratista  agc      nombres     cristian daniel   empresa     coesur    apellido paterno     sepulveda    gerencia          apellido materno      lenis   cargo       electricista     lugar de trabajo    puerto montt   zonal     puerto montt     fecha fin contrato    indefinido   estado contrato          correo de contacto    victor castillo saesa cl     solicitud de cuenta       cuenta de dominio     alta      comentarios   trabajado posee contrato indefinido en empresa coesur     '"
      ]
     },
     "execution_count": 18,
     "metadata": {},
     "output_type": "execute_result"
    }
   ],
   "source": [
    "df_tickets.loc[25000]['todo']"
   ]
  },
  {
   "cell_type": "code",
   "execution_count": null,
   "id": "5768bae5",
   "metadata": {},
   "outputs": [],
   "source": [
    "parameters_svm = {'vect__ngram_range': [(1, 1), (1, 2)],\n",
    "                  'tfidf__use_idf': (True, False),\n",
    "                  'clf-svm__alpha': (1e-2, 1e-3),\n",
    "                 }\n",
    "gs_clf_svm = GridSearchCV(text_clf_svm, parameters_svm, n_jobs=-1)\n",
    "gs_clf_svm = gs_clf_svm.fit(X_train, y_train)"
   ]
  },
  {
   "cell_type": "code",
   "execution_count": null,
   "id": "78169f3c",
   "metadata": {},
   "outputs": [],
   "source": [
    "gs_clf_svm.best_score_"
   ]
  },
  {
   "cell_type": "code",
   "execution_count": null,
   "id": "874c1df4",
   "metadata": {},
   "outputs": [],
   "source": [
    "gs_clf_svm.best_params_"
   ]
  },
  {
   "cell_type": "code",
   "execution_count": null,
   "id": "e0a8cde3",
   "metadata": {},
   "outputs": [],
   "source": []
  }
 ],
 "metadata": {
  "kernelspec": {
   "display_name": "Python 3",
   "language": "python",
   "name": "python3"
  },
  "language_info": {
   "codemirror_mode": {
    "name": "ipython",
    "version": 3
   },
   "file_extension": ".py",
   "mimetype": "text/x-python",
   "name": "python",
   "nbconvert_exporter": "python",
   "pygments_lexer": "ipython3",
   "version": "3.8.10"
  }
 },
 "nbformat": 4,
 "nbformat_minor": 5
}
