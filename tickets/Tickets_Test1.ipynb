{
 "cells": [
  {
   "cell_type": "code",
   "execution_count": 1,
   "id": "6de35643",
   "metadata": {},
   "outputs": [],
   "source": [
    "import pandas as pd\n",
    "from sklearn.model_selection import train_test_split\n",
    "from sklearn.model_selection import GridSearchCV\n",
    "from sklearn.naive_bayes import MultinomialNB\n",
    "from sklearn.feature_extraction.text import TfidfTransformer\n",
    "from sklearn.feature_extraction.text import CountVectorizer\n",
    "from sklearn.pipeline import Pipeline\n",
    "from sklearn.linear_model import SGDClassifier\n",
    "import numpy as np\n",
    "from nltk.corpus import stopwords"
   ]
  },
  {
   "cell_type": "code",
   "execution_count": 2,
   "id": "2bff44e9",
   "metadata": {},
   "outputs": [],
   "source": [
    "df_tickets = pd.read_csv('tickets.csv', sep=';', quotechar = '\\'')"
   ]
  },
  {
   "cell_type": "code",
   "execution_count": 3,
   "id": "9ca558ff",
   "metadata": {},
   "outputs": [],
   "source": [
    "df_tickets.dropna(inplace=True)"
   ]
  },
  {
   "cell_type": "code",
   "execution_count": 4,
   "id": "5659f49b",
   "metadata": {},
   "outputs": [
    {
     "data": {
      "text/html": [
       "<div>\n",
       "<style scoped>\n",
       "    .dataframe tbody tr th:only-of-type {\n",
       "        vertical-align: middle;\n",
       "    }\n",
       "\n",
       "    .dataframe tbody tr th {\n",
       "        vertical-align: top;\n",
       "    }\n",
       "\n",
       "    .dataframe thead th {\n",
       "        text-align: right;\n",
       "    }\n",
       "</style>\n",
       "<table border=\"1\" class=\"dataframe\">\n",
       "  <thead>\n",
       "    <tr style=\"text-align: right;\">\n",
       "      <th></th>\n",
       "      <th>ownerid</th>\n",
       "      <th>fullDESCRIPTION</th>\n",
       "    </tr>\n",
       "  </thead>\n",
       "  <tbody>\n",
       "    <tr>\n",
       "      <th>0</th>\n",
       "      <td>63602</td>\n",
       "      <td>&lt;body&gt; &lt;div&gt; &lt;p&gt;&lt;i&gt;&lt;span style=\"font-family: C...</td>\n",
       "    </tr>\n",
       "    <tr>\n",
       "      <th>1</th>\n",
       "      <td>129127</td>\n",
       "      <td>&lt;div style=\"font-family: Calibri , Arial , Hel...</td>\n",
       "    </tr>\n",
       "    <tr>\n",
       "      <th>2</th>\n",
       "      <td>146705</td>\n",
       "      <td>&lt;div&gt; &lt;p&gt;Estimados, buenos días&lt;/p&gt; &lt;p&gt; &lt;/p&gt; &lt;...</td>\n",
       "    </tr>\n",
       "    <tr>\n",
       "      <th>3</th>\n",
       "      <td>72603</td>\n",
       "      <td>&lt;body&gt; &lt;div style=\"font-family: Calibri , Aria...</td>\n",
       "    </tr>\n",
       "    <tr>\n",
       "      <th>4</th>\n",
       "      <td>131404</td>\n",
       "      <td>&lt;div style=\"font-family: Calibri , Arial , Hel...</td>\n",
       "    </tr>\n",
       "    <tr>\n",
       "      <th>...</th>\n",
       "      <td>...</td>\n",
       "      <td>...</td>\n",
       "    </tr>\n",
       "    <tr>\n",
       "      <th>60479</th>\n",
       "      <td>165002</td>\n",
       "      <td>&lt;body&gt; &lt;div style=\"color: rgb(33, 33, 33); bac...</td>\n",
       "    </tr>\n",
       "    <tr>\n",
       "      <th>60480</th>\n",
       "      <td>122748</td>\n",
       "      <td>&lt;div&gt;Buen día, favor su ayuda para verificar e...</td>\n",
       "    </tr>\n",
       "    <tr>\n",
       "      <th>60481</th>\n",
       "      <td>165002</td>\n",
       "      <td>&lt;body&gt; &lt;div style=\"font-family: Calibri, Arial...</td>\n",
       "    </tr>\n",
       "    <tr>\n",
       "      <th>60482</th>\n",
       "      <td>129127</td>\n",
       "      <td>&lt;div&gt;&lt;p class=\"MsoNormal\"&gt;Estimados&lt;br /&gt;&lt;/p&gt;&lt;...</td>\n",
       "    </tr>\n",
       "    <tr>\n",
       "      <th>60483</th>\n",
       "      <td>146764</td>\n",
       "      <td>&lt;div&gt;Se reporta inconveniente para ingresar a ...</td>\n",
       "    </tr>\n",
       "  </tbody>\n",
       "</table>\n",
       "<p>60480 rows × 2 columns</p>\n",
       "</div>"
      ],
      "text/plain": [
       "      ownerid                                    fullDESCRIPTION\n",
       "0       63602  <body> <div> <p><i><span style=\"font-family: C...\n",
       "1      129127  <div style=\"font-family: Calibri , Arial , Hel...\n",
       "2      146705  <div> <p>Estimados, buenos días</p> <p> </p> <...\n",
       "3       72603  <body> <div style=\"font-family: Calibri , Aria...\n",
       "4      131404  <div style=\"font-family: Calibri , Arial , Hel...\n",
       "...       ...                                                ...\n",
       "60479  165002  <body> <div style=\"color: rgb(33, 33, 33); bac...\n",
       "60480  122748  <div>Buen día, favor su ayuda para verificar e...\n",
       "60481  165002  <body> <div style=\"font-family: Calibri, Arial...\n",
       "60482  129127  <div><p class=\"MsoNormal\">Estimados<br /></p><...\n",
       "60483  146764  <div>Se reporta inconveniente para ingresar a ...\n",
       "\n",
       "[60480 rows x 2 columns]"
      ]
     },
     "execution_count": 4,
     "metadata": {},
     "output_type": "execute_result"
    }
   ],
   "source": [
    "df_tickets"
   ]
  },
  {
   "cell_type": "code",
   "execution_count": 5,
   "id": "ac3bffa9",
   "metadata": {},
   "outputs": [],
   "source": [
    "df_tickets[\"fullDESCRIPTION\"] = df_tickets['fullDESCRIPTION'].str.replace('<[^<]+?>',' ', regex=True).str.replace('&nbsp',' ', regex=True).str.replace('[^\\w\\s]',' ', regex=True).apply(str.lower).str.replace('estimados','').str.replace('estimado','').str.replace('\\xa0','')"
   ]
  },
  {
   "cell_type": "code",
   "execution_count": 6,
   "id": "345a698e",
   "metadata": {},
   "outputs": [
    {
     "data": {
      "text/html": [
       "<div>\n",
       "<style scoped>\n",
       "    .dataframe tbody tr th:only-of-type {\n",
       "        vertical-align: middle;\n",
       "    }\n",
       "\n",
       "    .dataframe tbody tr th {\n",
       "        vertical-align: top;\n",
       "    }\n",
       "\n",
       "    .dataframe thead th {\n",
       "        text-align: right;\n",
       "    }\n",
       "</style>\n",
       "<table border=\"1\" class=\"dataframe\">\n",
       "  <thead>\n",
       "    <tr style=\"text-align: right;\">\n",
       "      <th></th>\n",
       "      <th>ownerid</th>\n",
       "      <th>fullDESCRIPTION</th>\n",
       "    </tr>\n",
       "  </thead>\n",
       "  <tbody>\n",
       "    <tr>\n",
       "      <th>0</th>\n",
       "      <td>63602</td>\n",
       "      <td>a la fecha no hemos recibido el lecto...</td>\n",
       "    </tr>\n",
       "    <tr>\n",
       "      <th>1</th>\n",
       "      <td>129127</td>\n",
       "      <td>personal de soporte           soy julio ahu...</td>\n",
       "    </tr>\n",
       "    <tr>\n",
       "      <th>2</th>\n",
       "      <td>146705</td>\n",
       "      <td>buenos días      agradeceré su colaboraci...</td>\n",
       "    </tr>\n",
       "    <tr>\n",
       "      <th>3</th>\n",
       "      <td>72603</td>\n",
       "      <td>por favor s...</td>\n",
       "    </tr>\n",
       "    <tr>\n",
       "      <th>4</th>\n",
       "      <td>131404</td>\n",
       "      <td>junto con saludar   aún no tengo ...</td>\n",
       "    </tr>\n",
       "    <tr>\n",
       "      <th>...</th>\n",
       "      <td>...</td>\n",
       "      <td>...</td>\n",
       "    </tr>\n",
       "    <tr>\n",
       "      <th>60479</th>\n",
       "      <td>165002</td>\n",
       "      <td>junto con saludar favor su ay...</td>\n",
       "    </tr>\n",
       "    <tr>\n",
       "      <th>60480</th>\n",
       "      <td>122748</td>\n",
       "      <td>buen día  favor su ayuda para verificar en si...</td>\n",
       "    </tr>\n",
       "    <tr>\n",
       "      <th>60481</th>\n",
       "      <td>165002</td>\n",
       "      <td>favor generar usuario y contras...</td>\n",
       "    </tr>\n",
       "    <tr>\n",
       "      <th>60482</th>\n",
       "      <td>129127</td>\n",
       "      <td>buenas tardes  favor habilitar equip...</td>\n",
       "    </tr>\n",
       "    <tr>\n",
       "      <th>60483</th>\n",
       "      <td>146764</td>\n",
       "      <td>se reporta inconveniente para ingresar a valo...</td>\n",
       "    </tr>\n",
       "  </tbody>\n",
       "</table>\n",
       "<p>60480 rows × 2 columns</p>\n",
       "</div>"
      ],
      "text/plain": [
       "      ownerid                                    fullDESCRIPTION\n",
       "0       63602           a la fecha no hemos recibido el lecto...\n",
       "1      129127     personal de soporte           soy julio ahu...\n",
       "2      146705       buenos días      agradeceré su colaboraci...\n",
       "3       72603                                     por favor s...\n",
       "4      131404               junto con saludar   aún no tengo ...\n",
       "...       ...                                                ...\n",
       "60479  165002                   junto con saludar favor su ay...\n",
       "60480  122748   buen día  favor su ayuda para verificar en si...\n",
       "60481  165002                 favor generar usuario y contras...\n",
       "60482  129127            buenas tardes  favor habilitar equip...\n",
       "60483  146764   se reporta inconveniente para ingresar a valo...\n",
       "\n",
       "[60480 rows x 2 columns]"
      ]
     },
     "execution_count": 6,
     "metadata": {},
     "output_type": "execute_result"
    }
   ],
   "source": [
    "df_tickets"
   ]
  },
  {
   "cell_type": "code",
   "execution_count": 8,
   "id": "4a75fafa",
   "metadata": {},
   "outputs": [],
   "source": [
    "X_train, X_test, y_train, y_test  = train_test_split(df_tickets[\"fullDESCRIPTION\"], df_tickets[\"ownerid\"], test_size = 0.2, random_state = 1)"
   ]
  },
  {
   "cell_type": "code",
   "execution_count": 9,
   "id": "1bb65bc5",
   "metadata": {},
   "outputs": [
    {
     "data": {
      "text/plain": [
       "0.5947420634920635"
      ]
     },
     "execution_count": 9,
     "metadata": {},
     "output_type": "execute_result"
    }
   ],
   "source": [
    "text_clf_svm = Pipeline([('vect', CountVectorizer(stop_words=stopwords.words('spanish'))),\n",
    "                         ('tfidf', TfidfTransformer()),\n",
    "                         ('clf-svm', SGDClassifier(loss='hinge', penalty='l2',alpha=1e-3, max_iter=15, random_state=42)),\n",
    "                        ])\n",
    "_ = text_clf_svm.fit(X_train, y_train)\n",
    "predicted_svm = text_clf_svm.predict(X_test)\n",
    "np.mean(predicted_svm == y_test)"
   ]
  },
  {
   "cell_type": "code",
   "execution_count": null,
   "id": "5768bae5",
   "metadata": {},
   "outputs": [],
   "source": [
    "parameters_svm = {'vect__ngram_range': [(1, 1), (1, 2)],\n",
    "                  'tfidf__use_idf': (True, False),\n",
    "                  'clf-svm__alpha': (1e-2, 1e-3),\n",
    "                 }\n",
    "gs_clf_svm = GridSearchCV(text_clf_svm, parameters_svm, n_jobs=-1)\n",
    "gs_clf_svm = gs_clf_svm.fit(X_train, y_train)"
   ]
  },
  {
   "cell_type": "code",
   "execution_count": null,
   "id": "78169f3c",
   "metadata": {},
   "outputs": [],
   "source": [
    "gs_clf_svm.best_score_"
   ]
  },
  {
   "cell_type": "code",
   "execution_count": null,
   "id": "874c1df4",
   "metadata": {},
   "outputs": [],
   "source": [
    "gs_clf_svm.best_params_"
   ]
  },
  {
   "cell_type": "code",
   "execution_count": null,
   "id": "add670a0",
   "metadata": {},
   "outputs": [],
   "source": [
    "counts = pd.Series(''.join(df_tickets.fullDESCRIPTION).split()).value_counts()\n",
    "counts"
   ]
  },
  {
   "cell_type": "code",
   "execution_count": null,
   "id": "f5bad8e5",
   "metadata": {},
   "outputs": [],
   "source": [
    "high_freq = counts[:int(pd.Series(''.join(df_tickets.fullDESCRIPTION).split()).count()*1/100)]\n",
    "high_freq"
   ]
  },
  {
   "cell_type": "code",
   "execution_count": 7,
   "id": "0c254802",
   "metadata": {},
   "outputs": [
    {
     "data": {
      "text/plain": [
       "'      por favor dejar activas las claves y accesos de andrés ruiz  ya que se extiende su contrato hasta fin de año           desde ya muchas gracias           saludos    patricia         enviado desde  outlook mobile              de   raul adonio rubilar gonzalez  lt raul rubilar saesa cl gt    enviado   viernes  15 de mayo de 2020 3 09 p  m    para   camila torres  raul andres ramis mardones   cc   patricia julieta llanquilef antilen  rodrigo andres navarrete seguel  valeria alejandra vergara ruiz  sandra gema gonzalez gonzalez   asunto   re  vencimiento contrato est            estimada camila  de acuerdo a lo conversado y solicitado y de acuerdo a lo informado por nuestro sg raúl ramis el día de hoy viernes 15 05  el contrato del est se extiende hasta fin de año       saludos     raúl rubilar gonzález      jefe de area distribución     gerencia explotación   zonal los ríos     63 2276155    56 9   63004674        www gruposaesa cl                   de     patricia julieta llanquilef antilen  lt patricia llanquilef saesa cl gt     enviado el   martes  12 de mayo de 2020 16 05   para   camila torres  lt camila torres saesa cl gt    cc   raul adonio rubilar gonzalez  lt raul rubilar saesa cl gt    asunto   re  vencimiento contrato est           camila    estamos pidiendo prorroga a través de la subgerencia de procesos de don raúl ramis         saludos               patricia llanquilef a        procesos comerciales        celular 961701893       zonal valdivia                      de     camila torres  lt  camila torres saesa cl  gt     enviado el   martes  12 de mayo de 2020 15 44   para   patricia julieta llanquilef antilen  lt  patricia llanquilef saesa cl  gt    asunto   re  vencimiento contrato est           hola patricia    fue posible revisar el correo enviado  dado que andrés tiene contrato hasta el 15 de mayo  agradeceré que me cuentes si solicitaste prorroga o necesitas que sea finiquitado    quedo atenta    gracias           camila torres moreira        gerencia de personas       teléfono              56  9 56292516       dirección   eleuterio ramírez 705  piso 4  osorno         www gruposaesa cl                              de     camila torres    enviado el   martes  5 de mayo de 2020 11 51   para   patricia julieta llanquilef antilen  lt  patricia llanquilef saesa cl  gt    asunto   vencimiento contrato est   importancia   alta           estimada patricia    junto con saludar  y esperando que te encuentres bien  informo que el siguiente trabajador est  tiene vencimiento de contrato el día  15 de mayo                 14 081 213 7         andrés ruiz zavala         asistente procesos comerciales               dado la actual suspensión de contrataciones por parte de gerencia de personas  agradeceré primero validar con tu gerencia correspondiente la solicitud de renovación  de tener v b  por tu gerencia  deberás realizar la solicitud de vacante  a través de la plataforma de facilita   adjunto instructivo        quedo atenta a cualquier consulta y o comentario    saludos         camila torres moreira        gerencia de personas       teléfono              56  9 56292516       dirección   eleuterio ramírez 705  piso 4  osorno         www gruposaesa cl                             '"
      ]
     },
     "execution_count": 7,
     "metadata": {},
     "output_type": "execute_result"
    }
   ],
   "source": [
    "df_tickets.loc[25000]['fullDESCRIPTION']"
   ]
  },
  {
   "cell_type": "code",
   "execution_count": null,
   "id": "e0a8cde3",
   "metadata": {},
   "outputs": [],
   "source": []
  }
 ],
 "metadata": {
  "kernelspec": {
   "display_name": "Python 3",
   "language": "python",
   "name": "python3"
  },
  "language_info": {
   "codemirror_mode": {
    "name": "ipython",
    "version": 3
   },
   "file_extension": ".py",
   "mimetype": "text/x-python",
   "name": "python",
   "nbconvert_exporter": "python",
   "pygments_lexer": "ipython3",
   "version": "3.8.10"
  }
 },
 "nbformat": 4,
 "nbformat_minor": 5
}
