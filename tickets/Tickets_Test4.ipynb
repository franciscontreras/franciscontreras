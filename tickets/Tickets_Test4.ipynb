{
 "cells": [
  {
   "cell_type": "code",
   "execution_count": 1,
   "id": "6de35643",
   "metadata": {},
   "outputs": [
    {
     "ename": "ModuleNotFoundError",
     "evalue": "No module named 'nltk'",
     "output_type": "error",
     "traceback": [
      "\u001b[1;31m---------------------------------------------------------------------------\u001b[0m",
      "\u001b[1;31mModuleNotFoundError\u001b[0m                       Traceback (most recent call last)",
      "\u001b[1;32m~\\AppData\\Local\\Temp/ipykernel_5168/486229664.py\u001b[0m in \u001b[0;36m<module>\u001b[1;34m\u001b[0m\n\u001b[0;32m      8\u001b[0m \u001b[1;32mfrom\u001b[0m \u001b[0msklearn\u001b[0m\u001b[1;33m.\u001b[0m\u001b[0mlinear_model\u001b[0m \u001b[1;32mimport\u001b[0m \u001b[0mSGDClassifier\u001b[0m\u001b[1;33m\u001b[0m\u001b[1;33m\u001b[0m\u001b[0m\n\u001b[0;32m      9\u001b[0m \u001b[1;32mimport\u001b[0m \u001b[0mnumpy\u001b[0m \u001b[1;32mas\u001b[0m \u001b[0mnp\u001b[0m\u001b[1;33m\u001b[0m\u001b[1;33m\u001b[0m\u001b[0m\n\u001b[1;32m---> 10\u001b[1;33m \u001b[1;32mfrom\u001b[0m \u001b[0mnltk\u001b[0m\u001b[1;33m.\u001b[0m\u001b[0mcorpus\u001b[0m \u001b[1;32mimport\u001b[0m \u001b[0mstopwords\u001b[0m\u001b[1;33m\u001b[0m\u001b[1;33m\u001b[0m\u001b[0m\n\u001b[0m\u001b[0;32m     11\u001b[0m \u001b[1;32mimport\u001b[0m \u001b[0munidecode\u001b[0m\u001b[1;33m\u001b[0m\u001b[1;33m\u001b[0m\u001b[0m\n\u001b[0;32m     12\u001b[0m \u001b[1;32mfrom\u001b[0m \u001b[0mnltk\u001b[0m\u001b[1;33m.\u001b[0m\u001b[0mstem\u001b[0m \u001b[1;32mimport\u001b[0m \u001b[0mSnowballStemmer\u001b[0m\u001b[1;33m\u001b[0m\u001b[1;33m\u001b[0m\u001b[0m\n",
      "\u001b[1;31mModuleNotFoundError\u001b[0m: No module named 'nltk'"
     ]
    }
   ],
   "source": [
    "import pandas as pd\n",
    "from sklearn.model_selection import train_test_split\n",
    "from sklearn.model_selection import GridSearchCV\n",
    "from sklearn.naive_bayes import MultinomialNB\n",
    "from sklearn.feature_extraction.text import TfidfTransformer\n",
    "from sklearn.feature_extraction.text import CountVectorizer\n",
    "from sklearn.pipeline import Pipeline\n",
    "from sklearn.linear_model import SGDClassifier\n",
    "import numpy as np\n",
    "from nltk.corpus import stopwords\n",
    "import unidecode\n",
    "from nltk.stem import SnowballStemmer"
   ]
  },
  {
   "cell_type": "code",
   "execution_count": 2,
   "id": "2bff44e9",
   "metadata": {},
   "outputs": [],
   "source": [
    "df_tickets = pd.read_csv('tickets_asunto.csv', sep=';', quotechar = '\\'')"
   ]
  },
  {
   "cell_type": "code",
   "execution_count": 3,
   "id": "9ca558ff",
   "metadata": {},
   "outputs": [],
   "source": [
    "df_tickets.dropna(inplace=True)"
   ]
  },
  {
   "cell_type": "code",
   "execution_count": 4,
   "id": "5659f49b",
   "metadata": {},
   "outputs": [
    {
     "data": {
      "text/html": [
       "<div>\n",
       "<style scoped>\n",
       "    .dataframe tbody tr th:only-of-type {\n",
       "        vertical-align: middle;\n",
       "    }\n",
       "\n",
       "    .dataframe tbody tr th {\n",
       "        vertical-align: top;\n",
       "    }\n",
       "\n",
       "    .dataframe thead th {\n",
       "        text-align: right;\n",
       "    }\n",
       "</style>\n",
       "<table border=\"1\" class=\"dataframe\">\n",
       "  <thead>\n",
       "    <tr style=\"text-align: right;\">\n",
       "      <th></th>\n",
       "      <th>tecnico</th>\n",
       "      <th>asunto</th>\n",
       "      <th>descripcion</th>\n",
       "    </tr>\n",
       "  </thead>\n",
       "  <tbody>\n",
       "    <tr>\n",
       "      <th>0</th>\n",
       "      <td>63602</td>\n",
       "      <td>RE: Petición : ##268042## ha sido finalizada.</td>\n",
       "      <td>&lt;body&gt; &lt;div&gt; &lt;p&gt;&lt;i&gt;&lt;span style=\"font-family: C...</td>\n",
       "    </tr>\n",
       "    <tr>\n",
       "      <th>1</th>\n",
       "      <td>129127</td>\n",
       "      <td>Problemas con Notebook</td>\n",
       "      <td>&lt;div style=\"font-family: Calibri , Arial , Hel...</td>\n",
       "    </tr>\n",
       "    <tr>\n",
       "      <th>2</th>\n",
       "      <td>139841</td>\n",
       "      <td>SOLICITUD TRANSACCION K_TP_VALU</td>\n",
       "      <td>&lt;body&gt; Estiamdos otorgar privilegios para la t...</td>\n",
       "    </tr>\n",
       "    <tr>\n",
       "      <th>3</th>\n",
       "      <td>72603</td>\n",
       "      <td>ERROR EN GATILLADOR</td>\n",
       "      <td>&lt;body&gt; &lt;div&gt; &lt;p&gt;Estimados:&lt;/p&gt; &lt;p&gt; &lt;/p&gt; &lt;p&gt;Agr...</td>\n",
       "    </tr>\n",
       "    <tr>\n",
       "      <th>4</th>\n",
       "      <td>129127</td>\n",
       "      <td>RV: Asignar Equipo Notebook y Cuentas Correo /...</td>\n",
       "      <td>&lt;div&gt; &lt;p&gt;Estimados,&lt;/p&gt; &lt;p&gt; &lt;/p&gt; &lt;p&gt;Reitero so...</td>\n",
       "    </tr>\n",
       "    <tr>\n",
       "      <th>...</th>\n",
       "      <td>...</td>\n",
       "      <td>...</td>\n",
       "      <td>...</td>\n",
       "    </tr>\n",
       "    <tr>\n",
       "      <th>60182</th>\n",
       "      <td>146764</td>\n",
       "      <td>INSTALACION GOOGLE EARTH PRO</td>\n",
       "      <td>&lt;body&gt; &lt;div style=\"font-family: Calibri, Arial...</td>\n",
       "    </tr>\n",
       "    <tr>\n",
       "      <th>60183</th>\n",
       "      <td>171004</td>\n",
       "      <td>Problema en ACP Espejo para cargar tareas en s...</td>\n",
       "      <td>&lt;body style=\"\"&gt; &lt;div&gt; &lt;p class=\"MsoNormal\"&gt;Est...</td>\n",
       "    </tr>\n",
       "    <tr>\n",
       "      <th>60184</th>\n",
       "      <td>149280</td>\n",
       "      <td>Solicitud Configuración PC a Ploter Sr. Gabrie...</td>\n",
       "      <td>&lt;div&gt;&lt;p class=\"MsoNormal\"&gt;&lt;u&gt;Sres. Soporte&lt;/u&gt;...</td>\n",
       "    </tr>\n",
       "    <tr>\n",
       "      <th>60185</th>\n",
       "      <td>165002</td>\n",
       "      <td>Agente Paillaco</td>\n",
       "      <td>&lt;body&gt; &lt;div style=\"font-family: Calibri, Arial...</td>\n",
       "    </tr>\n",
       "    <tr>\n",
       "      <th>60186</th>\n",
       "      <td>129127</td>\n",
       "      <td>Clave de ingreso</td>\n",
       "      <td>&lt;div&gt;&lt;p class=\"MsoNormal\"&gt;Estimado&lt;br /&gt;&lt;/p&gt;&lt;p...</td>\n",
       "    </tr>\n",
       "  </tbody>\n",
       "</table>\n",
       "<p>60182 rows × 3 columns</p>\n",
       "</div>"
      ],
      "text/plain": [
       "      tecnico                                             asunto  \\\n",
       "0       63602      RE: Petición : ##268042## ha sido finalizada.   \n",
       "1      129127                             Problemas con Notebook   \n",
       "2      139841                    SOLICITUD TRANSACCION K_TP_VALU   \n",
       "3       72603                                ERROR EN GATILLADOR   \n",
       "4      129127  RV: Asignar Equipo Notebook y Cuentas Correo /...   \n",
       "...       ...                                                ...   \n",
       "60182  146764                       INSTALACION GOOGLE EARTH PRO   \n",
       "60183  171004  Problema en ACP Espejo para cargar tareas en s...   \n",
       "60184  149280  Solicitud Configuración PC a Ploter Sr. Gabrie...   \n",
       "60185  165002                                    Agente Paillaco   \n",
       "60186  129127                                   Clave de ingreso   \n",
       "\n",
       "                                             descripcion  \n",
       "0      <body> <div> <p><i><span style=\"font-family: C...  \n",
       "1      <div style=\"font-family: Calibri , Arial , Hel...  \n",
       "2      <body> Estiamdos otorgar privilegios para la t...  \n",
       "3      <body> <div> <p>Estimados:</p> <p> </p> <p>Agr...  \n",
       "4      <div> <p>Estimados,</p> <p> </p> <p>Reitero so...  \n",
       "...                                                  ...  \n",
       "60182  <body> <div style=\"font-family: Calibri, Arial...  \n",
       "60183  <body style=\"\"> <div> <p class=\"MsoNormal\">Est...  \n",
       "60184  <div><p class=\"MsoNormal\"><u>Sres. Soporte</u>...  \n",
       "60185  <body> <div style=\"font-family: Calibri, Arial...  \n",
       "60186  <div><p class=\"MsoNormal\">Estimado<br /></p><p...  \n",
       "\n",
       "[60182 rows x 3 columns]"
      ]
     },
     "execution_count": 4,
     "metadata": {},
     "output_type": "execute_result"
    }
   ],
   "source": [
    "df_tickets"
   ]
  },
  {
   "cell_type": "code",
   "execution_count": 5,
   "id": "68eb9a94",
   "metadata": {},
   "outputs": [],
   "source": [
    "def removeAccent(text):\n",
    "    text = unidecode.unidecode(text)\n",
    "    return text"
   ]
  },
  {
   "cell_type": "code",
   "execution_count": 6,
   "id": "0dce0b3d",
   "metadata": {},
   "outputs": [],
   "source": [
    "df_tickets['asunto'] = df_tickets['asunto'].apply(removeAccent)\n",
    "df_tickets['descripcion'] = df_tickets['descripcion'].apply(removeAccent)"
   ]
  },
  {
   "cell_type": "code",
   "execution_count": 7,
   "id": "79f72970",
   "metadata": {},
   "outputs": [],
   "source": [
    "data = stopwords.words('spanish')\n",
    "\n",
    "for i in range(len(data)):    \n",
    "    data[i] = removeAccent(data[i])"
   ]
  },
  {
   "cell_type": "code",
   "execution_count": 8,
   "id": "82e3baa1",
   "metadata": {},
   "outputs": [],
   "source": [
    "def removeString(data, regex):\n",
    "    return data.str.lower().str.replace(regex.lower(), ' ', regex=True)"
   ]
  },
  {
   "cell_type": "code",
   "execution_count": 9,
   "id": "d2ec2724",
   "metadata": {},
   "outputs": [],
   "source": [
    "def cleanDataset(dataset, columnsToClean, regexList):\n",
    "    for column in columnsToClean:\n",
    "        for regex in regexList:\n",
    "            dataset[column] = removeString(dataset[column], regex)\n",
    "    return dataset"
   ]
  },
  {
   "cell_type": "code",
   "execution_count": 10,
   "id": "5c788ad0",
   "metadata": {},
   "outputs": [],
   "source": [
    "def getRegexList():\n",
    "    regexList = []\n",
    "    regexList += ['estimados']\n",
    "    regexList += ['estimado']\n",
    "    regexList += ['gt']\n",
    "    regexList += ['lt']\n",
    "    regexList += ['&nbsp']\n",
    "    regexList += ['osorno']\n",
    "    regexList += ['gerencia']\n",
    "    regexList += ['href']\n",
    "    regexList += ['asunto']\n",
    "    regexList += ['enviado']\n",
    "    regexList += ['saesa']\n",
    "    regexList += ['area']\n",
    "    regexList += ['ramirez']\n",
    "    regexList += ['fecha']\n",
    "    regexList += ['atte']\n",
    "    regexList += ['ayuda']\n",
    "    regexList += ['gracias']\n",
    "    regexList += ['piso']\n",
    "    regexList += ['empresa']\n",
    "    regexList += ['bulnes']\n",
    "    regexList += ['fono']\n",
    "    regexList += ['eleuterio']\n",
    "    regexList += ['gruposaesa']\n",
    "    regexList += ['muchas']\n",
    "    regexList += ['\\xa0']\n",
    "    regexList += ['[0-9]']\n",
    "    regexList += ['www']\n",
    "    regexList += ['CC:']\n",
    "    regexList += ['RE:']  # received data line\n",
    "    regexList += ['RV:']  # received data line\n",
    "    regexList += ['\\[cid:(.*)]']  # images cid\n",
    "    regexList += ['https?:[^\\]\\n\\r]+']  # https & http\n",
    "    regexList += ['<[^<]+?>']\n",
    "    regexList += ['[^\\w\\s]']\n",
    "\n",
    "    return regexList"
   ]
  },
  {
   "cell_type": "code",
   "execution_count": 11,
   "id": "f0e632c1",
   "metadata": {},
   "outputs": [
    {
     "data": {
      "text/html": [
       "<div>\n",
       "<style scoped>\n",
       "    .dataframe tbody tr th:only-of-type {\n",
       "        vertical-align: middle;\n",
       "    }\n",
       "\n",
       "    .dataframe tbody tr th {\n",
       "        vertical-align: top;\n",
       "    }\n",
       "\n",
       "    .dataframe thead th {\n",
       "        text-align: right;\n",
       "    }\n",
       "</style>\n",
       "<table border=\"1\" class=\"dataframe\">\n",
       "  <thead>\n",
       "    <tr style=\"text-align: right;\">\n",
       "      <th></th>\n",
       "      <th>tecnico</th>\n",
       "      <th>asunto</th>\n",
       "      <th>descripcion</th>\n",
       "    </tr>\n",
       "  </thead>\n",
       "  <tbody>\n",
       "    <tr>\n",
       "      <th>0</th>\n",
       "      <td>63602</td>\n",
       "      <td>peticion              ha sido finalizada</td>\n",
       "      <td>a la   no hemos recibido el lector n...</td>\n",
       "    </tr>\n",
       "    <tr>\n",
       "      <th>1</th>\n",
       "      <td>129127</td>\n",
       "      <td>problemas con notebook</td>\n",
       "      <td>personal de soporte           soy julio ah...</td>\n",
       "    </tr>\n",
       "    <tr>\n",
       "      <th>2</th>\n",
       "      <td>139841</td>\n",
       "      <td>solicitud transaccion k_tp_valu</td>\n",
       "      <td>estiamdos otorgar privilegios para la transa...</td>\n",
       "    </tr>\n",
       "    <tr>\n",
       "      <th>3</th>\n",
       "      <td>72603</td>\n",
       "      <td>error en gatillador</td>\n",
       "      <td>agradecere ver el sistema de med...</td>\n",
       "    </tr>\n",
       "    <tr>\n",
       "      <th>4</th>\n",
       "      <td>129127</td>\n",
       "      <td>asignar equipo notebook y cuentas correo   sap</td>\n",
       "      <td>reitero solicitud      saludos    ...</td>\n",
       "    </tr>\n",
       "    <tr>\n",
       "      <th>...</th>\n",
       "      <td>...</td>\n",
       "      <td>...</td>\n",
       "      <td>...</td>\n",
       "    </tr>\n",
       "    <tr>\n",
       "      <th>60182</th>\n",
       "      <td>146764</td>\n",
       "      <td>instalacion google earth pro</td>\n",
       "      <td>favor su   en instalacion de a...</td>\n",
       "    </tr>\n",
       "    <tr>\n",
       "      <th>60183</th>\n",
       "      <td>171004</td>\n",
       "      <td>problema en acp espejo para cargar t s en subz...</td>\n",
       "      <td>favor su   con problema detecta...</td>\n",
       "    </tr>\n",
       "    <tr>\n",
       "      <th>60184</th>\n",
       "      <td>149280</td>\n",
       "      <td>solicitud configuracion pc a ploter sr  gabrie...</td>\n",
       "      <td>sres  soporte         junto con saludar  ag...</td>\n",
       "    </tr>\n",
       "    <tr>\n",
       "      <th>60185</th>\n",
       "      <td>165002</td>\n",
       "      <td>agente paillaco</td>\n",
       "      <td>favor su   para incorporar agente a pc ...</td>\n",
       "    </tr>\n",
       "    <tr>\n",
       "      <th>60186</th>\n",
       "      <td>129127</td>\n",
       "      <td>clave de ingreso</td>\n",
       "      <td>junto con saludar  necesito   con m...</td>\n",
       "    </tr>\n",
       "  </tbody>\n",
       "</table>\n",
       "<p>60182 rows × 3 columns</p>\n",
       "</div>"
      ],
      "text/plain": [
       "      tecnico                                             asunto  \\\n",
       "0       63602          peticion              ha sido finalizada    \n",
       "1      129127                             problemas con notebook   \n",
       "2      139841                    solicitud transaccion k_tp_valu   \n",
       "3       72603                                error en gatillador   \n",
       "4      129127     asignar equipo notebook y cuentas correo   sap   \n",
       "...       ...                                                ...   \n",
       "60182  146764                       instalacion google earth pro   \n",
       "60183  171004  problema en acp espejo para cargar t s en subz...   \n",
       "60184  149280  solicitud configuracion pc a ploter sr  gabrie...   \n",
       "60185  165002                                    agente paillaco   \n",
       "60186  129127                                   clave de ingreso   \n",
       "\n",
       "                                             descripcion  \n",
       "0                a la   no hemos recibido el lector n...  \n",
       "1          personal de soporte           soy julio ah...  \n",
       "2        estiamdos otorgar privilegios para la transa...  \n",
       "3                    agradecere ver el sistema de med...  \n",
       "4                  reitero solicitud      saludos    ...  \n",
       "...                                                  ...  \n",
       "60182                  favor su   en instalacion de a...  \n",
       "60183                 favor su   con problema detecta...  \n",
       "60184     sres  soporte         junto con saludar  ag...  \n",
       "60185         favor su   para incorporar agente a pc ...  \n",
       "60186             junto con saludar  necesito   con m...  \n",
       "\n",
       "[60182 rows x 3 columns]"
      ]
     },
     "execution_count": 11,
     "metadata": {},
     "output_type": "execute_result"
    }
   ],
   "source": [
    "columnsToClean = ['asunto', 'descripcion']\n",
    "cleanDataset(df_tickets, columnsToClean, getRegexList())"
   ]
  },
  {
   "cell_type": "code",
   "execution_count": 12,
   "id": "e97e9a14",
   "metadata": {},
   "outputs": [],
   "source": [
    "tecnico = df_tickets['tecnico']"
   ]
  },
  {
   "cell_type": "code",
   "execution_count": 13,
   "id": "1a2c92fc",
   "metadata": {},
   "outputs": [],
   "source": [
    "df_tickets['todo'] = df_tickets['asunto'] + ' ' + df_tickets['descripcion']"
   ]
  },
  {
   "cell_type": "code",
   "execution_count": 14,
   "id": "144d280f",
   "metadata": {},
   "outputs": [],
   "source": [
    "del df_tickets['tecnico']\n",
    "del df_tickets['asunto']\n",
    "del df_tickets['descripcion']"
   ]
  },
  {
   "cell_type": "code",
   "execution_count": 15,
   "id": "679847f6",
   "metadata": {},
   "outputs": [],
   "source": [
    "X_train, X_test, y_train, y_test  = train_test_split(df_tickets['todo'], tecnico, test_size = 0.2, random_state = 1)"
   ]
  },
  {
   "cell_type": "code",
   "execution_count": 44,
   "id": "16d00ba1",
   "metadata": {},
   "outputs": [],
   "source": [
    "stemmer = SnowballStemmer('spanish', ignore_stopwords=True)"
   ]
  },
  {
   "cell_type": "code",
   "execution_count": 50,
   "id": "621827a0",
   "metadata": {},
   "outputs": [],
   "source": [
    "class StemmedCountVectorizer(CountVectorizer):\n",
    "    def build_analyzer(self):\n",
    "        analyzer = super(StemmedCountVectorizer, self).build_analyzer()\n",
    "        return lambda doc: ([stemmer.stem(w) for w in analyzer(doc)])\n",
    "stemmed_count_vect = StemmedCountVectorizer(stop_words=data, ngram_range=(1, 2))"
   ]
  },
  {
   "cell_type": "code",
   "execution_count": 37,
   "id": "46746fcf",
   "metadata": {},
   "outputs": [],
   "source": [
    "text_clf = Pipeline([('vect', CountVectorizer(stop_words=data, ngram_range=(1, 2))),\n",
    "                     ('tfidf', TfidfTransformer()),\n",
    "                     ('clf', MultinomialNB(alpha=0.001)),\n",
    "                    ])\n",
    "text_clf = text_clf.fit(X_train, y_train)"
   ]
  },
  {
   "cell_type": "code",
   "execution_count": 38,
   "id": "455b1c50",
   "metadata": {},
   "outputs": [
    {
     "data": {
      "text/plain": [
       "0.6701836005649248"
      ]
     },
     "execution_count": 38,
     "metadata": {},
     "output_type": "execute_result"
    }
   ],
   "source": [
    "predicted = text_clf.predict(X_test)\n",
    "np.mean(predicted == y_test)"
   ]
  },
  {
   "cell_type": "code",
   "execution_count": 18,
   "id": "ff5fec0a",
   "metadata": {},
   "outputs": [],
   "source": [
    "parameters = {'vect__ngram_range': [(1, 1), (1, 2)],\n",
    "              'tfidf__use_idf': (True, False),\n",
    "              'clf__alpha': (1e-2, 1e-3),\n",
    "             }"
   ]
  },
  {
   "cell_type": "code",
   "execution_count": 19,
   "id": "778483f6",
   "metadata": {},
   "outputs": [
    {
     "name": "stderr",
     "output_type": "stream",
     "text": [
      "C:\\Users\\panch\\anaconda3\\envs\\tensor-gpu\\lib\\site-packages\\sklearn\\model_selection\\_split.py:666: UserWarning: The least populated class in y has only 1 members, which is less than n_splits=5.\n",
      "  warnings.warn((\"The least populated class in y has only %d\"\n"
     ]
    }
   ],
   "source": [
    "gs_clf = GridSearchCV(text_clf, parameters, n_jobs=-1)\n",
    "gs_clf = gs_clf.fit(X_train, y_train)"
   ]
  },
  {
   "cell_type": "code",
   "execution_count": 20,
   "id": "6072f6c2",
   "metadata": {},
   "outputs": [
    {
     "data": {
      "text/plain": [
       "0.6593415723335757"
      ]
     },
     "execution_count": 20,
     "metadata": {},
     "output_type": "execute_result"
    }
   ],
   "source": [
    "gs_clf.best_score_"
   ]
  },
  {
   "cell_type": "code",
   "execution_count": 21,
   "id": "c80fdb47",
   "metadata": {},
   "outputs": [
    {
     "data": {
      "text/plain": [
       "{'clf__alpha': 0.001, 'tfidf__use_idf': True, 'vect__ngram_range': (1, 2)}"
      ]
     },
     "execution_count": 21,
     "metadata": {},
     "output_type": "execute_result"
    }
   ],
   "source": [
    "gs_clf.best_params_"
   ]
  },
  {
   "cell_type": "code",
   "execution_count": 51,
   "id": "a2860cc0",
   "metadata": {},
   "outputs": [],
   "source": [
    "text_mnb_stemmed = Pipeline([('vect', stemmed_count_vect),\n",
    "                             ('tfidf', TfidfTransformer()),\n",
    "                             ('mnb', MultinomialNB(alpha=0.001)),\n",
    "                            ])"
   ]
  },
  {
   "cell_type": "code",
   "execution_count": 52,
   "id": "72e8efa5",
   "metadata": {},
   "outputs": [
    {
     "data": {
      "text/plain": [
       "0.6681066710974495"
      ]
     },
     "execution_count": 52,
     "metadata": {},
     "output_type": "execute_result"
    }
   ],
   "source": [
    "text_mnb_stemmed = text_mnb_stemmed.fit(X_train, y_train)\n",
    "predicted_mnb_stemmed = text_mnb_stemmed.predict(X_test)\n",
    "np.mean(predicted_mnb_stemmed == y_test)"
   ]
  },
  {
   "cell_type": "code",
   "execution_count": null,
   "id": "da28de29",
   "metadata": {},
   "outputs": [],
   "source": []
  }
 ],
 "metadata": {
  "kernelspec": {
   "display_name": "Python 3 (ipykernel)",
   "language": "python",
   "name": "python3"
  },
  "language_info": {
   "codemirror_mode": {
    "name": "ipython",
    "version": 3
   },
   "file_extension": ".py",
   "mimetype": "text/x-python",
   "name": "python",
   "nbconvert_exporter": "python",
   "pygments_lexer": "ipython3",
   "version": "3.9.7"
  }
 },
 "nbformat": 4,
 "nbformat_minor": 5
}
